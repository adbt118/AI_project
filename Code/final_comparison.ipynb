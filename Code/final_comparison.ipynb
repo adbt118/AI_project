{
 "cells": [
  {
   "cell_type": "markdown",
   "metadata": {},
   "source": [
    "**Flight Data Analysis (IN3062)**\n",
    "<p>The objective of this project/study was to describe a machine learning problem and apply artificial intelligence techniques to solve that problem.\n",
    "The flight booking dataset was used (provided on Kaggle.com) which was obtained from the “Ease My Trip” website (by Kaggle). The dataset contains information about each flight such as airline, flight, source_city, departure_time, stops, arrival_time, destination_city, class, duration, days_left, and price. The main hypothesis was \"How does the 10 different features affect price?\" \n",
    "The ‘Linear Regression’ and ‘Feed Forward Network’ were used to train the dataset and predict a continuous target variable (price). Performance of both techniques was compared. Linear Regression seemed to be a better choice for this problem than Feed-Forward-Network.</p>\n"
   ]
  },
  {
   "cell_type": "markdown",
   "metadata": {},
   "source": [
    "Reading data from CSV using pandas"
   ]
  },
  {
   "cell_type": "code",
   "execution_count": 38,
   "metadata": {},
   "outputs": [
    {
     "data": {
      "text/html": [
       "<div>\n",
       "<style scoped>\n",
       "    .dataframe tbody tr th:only-of-type {\n",
       "        vertical-align: middle;\n",
       "    }\n",
       "\n",
       "    .dataframe tbody tr th {\n",
       "        vertical-align: top;\n",
       "    }\n",
       "\n",
       "    .dataframe thead th {\n",
       "        text-align: right;\n",
       "    }\n",
       "</style>\n",
       "<table border=\"1\" class=\"dataframe\">\n",
       "  <thead>\n",
       "    <tr style=\"text-align: right;\">\n",
       "      <th></th>\n",
       "      <th>airline</th>\n",
       "      <th>flight</th>\n",
       "      <th>source_city</th>\n",
       "      <th>departure_time</th>\n",
       "      <th>stops</th>\n",
       "      <th>arrival_time</th>\n",
       "      <th>destination_city</th>\n",
       "      <th>class</th>\n",
       "      <th>duration</th>\n",
       "      <th>days_left</th>\n",
       "      <th>price</th>\n",
       "    </tr>\n",
       "  </thead>\n",
       "  <tbody>\n",
       "    <tr>\n",
       "      <th>0</th>\n",
       "      <td>SpiceJet</td>\n",
       "      <td>SG-8709</td>\n",
       "      <td>Delhi</td>\n",
       "      <td>Evening</td>\n",
       "      <td>zero</td>\n",
       "      <td>Night</td>\n",
       "      <td>Mumbai</td>\n",
       "      <td>Economy</td>\n",
       "      <td>2.17</td>\n",
       "      <td>1</td>\n",
       "      <td>5953</td>\n",
       "    </tr>\n",
       "    <tr>\n",
       "      <th>1</th>\n",
       "      <td>SpiceJet</td>\n",
       "      <td>SG-8157</td>\n",
       "      <td>Delhi</td>\n",
       "      <td>Early_Morning</td>\n",
       "      <td>zero</td>\n",
       "      <td>Morning</td>\n",
       "      <td>Mumbai</td>\n",
       "      <td>Economy</td>\n",
       "      <td>2.33</td>\n",
       "      <td>1</td>\n",
       "      <td>5953</td>\n",
       "    </tr>\n",
       "    <tr>\n",
       "      <th>2</th>\n",
       "      <td>AirAsia</td>\n",
       "      <td>I5-764</td>\n",
       "      <td>Delhi</td>\n",
       "      <td>Early_Morning</td>\n",
       "      <td>zero</td>\n",
       "      <td>Early_Morning</td>\n",
       "      <td>Mumbai</td>\n",
       "      <td>Economy</td>\n",
       "      <td>2.17</td>\n",
       "      <td>1</td>\n",
       "      <td>5956</td>\n",
       "    </tr>\n",
       "    <tr>\n",
       "      <th>3</th>\n",
       "      <td>Vistara</td>\n",
       "      <td>UK-995</td>\n",
       "      <td>Delhi</td>\n",
       "      <td>Morning</td>\n",
       "      <td>zero</td>\n",
       "      <td>Afternoon</td>\n",
       "      <td>Mumbai</td>\n",
       "      <td>Economy</td>\n",
       "      <td>2.25</td>\n",
       "      <td>1</td>\n",
       "      <td>5955</td>\n",
       "    </tr>\n",
       "    <tr>\n",
       "      <th>4</th>\n",
       "      <td>Vistara</td>\n",
       "      <td>UK-963</td>\n",
       "      <td>Delhi</td>\n",
       "      <td>Morning</td>\n",
       "      <td>zero</td>\n",
       "      <td>Morning</td>\n",
       "      <td>Mumbai</td>\n",
       "      <td>Economy</td>\n",
       "      <td>2.33</td>\n",
       "      <td>1</td>\n",
       "      <td>5955</td>\n",
       "    </tr>\n",
       "  </tbody>\n",
       "</table>\n",
       "</div>"
      ],
      "text/plain": [
       "    airline   flight source_city departure_time stops   arrival_time  \\\n",
       "0  SpiceJet  SG-8709       Delhi        Evening  zero          Night   \n",
       "1  SpiceJet  SG-8157       Delhi  Early_Morning  zero        Morning   \n",
       "2   AirAsia   I5-764       Delhi  Early_Morning  zero  Early_Morning   \n",
       "3   Vistara   UK-995       Delhi        Morning  zero      Afternoon   \n",
       "4   Vistara   UK-963       Delhi        Morning  zero        Morning   \n",
       "\n",
       "  destination_city    class  duration  days_left  price  \n",
       "0           Mumbai  Economy      2.17          1   5953  \n",
       "1           Mumbai  Economy      2.33          1   5953  \n",
       "2           Mumbai  Economy      2.17          1   5956  \n",
       "3           Mumbai  Economy      2.25          1   5955  \n",
       "4           Mumbai  Economy      2.33          1   5955  "
      ]
     },
     "execution_count": 38,
     "metadata": {},
     "output_type": "execute_result"
    }
   ],
   "source": [
    "# importing data\n",
    "import pandas as pd # for reading csv\n",
    "\n",
    "df=pd.read_csv('Clean_Dataset.csv', na_values=['NA','?']) #ignore missing values\n",
    "# Droping column 'Unnamed: 0'\n",
    "df=df.drop('Unnamed: 0',axis=1)\n",
    "df.head(5)"
   ]
  },
  {
   "cell_type": "markdown",
   "metadata": {},
   "source": [
    "Most of the artificial intelligence techniques works on numerical data, but we have columns with textual data (i.e. source_city), we can convert this data to numeric data using ‘Label Encoder’."
   ]
  },
  {
   "cell_type": "code",
   "execution_count": 39,
   "metadata": {},
   "outputs": [
    {
     "data": {
      "text/html": [
       "<div>\n",
       "<style scoped>\n",
       "    .dataframe tbody tr th:only-of-type {\n",
       "        vertical-align: middle;\n",
       "    }\n",
       "\n",
       "    .dataframe tbody tr th {\n",
       "        vertical-align: top;\n",
       "    }\n",
       "\n",
       "    .dataframe thead th {\n",
       "        text-align: right;\n",
       "    }\n",
       "</style>\n",
       "<table border=\"1\" class=\"dataframe\">\n",
       "  <thead>\n",
       "    <tr style=\"text-align: right;\">\n",
       "      <th></th>\n",
       "      <th>airline</th>\n",
       "      <th>flight</th>\n",
       "      <th>source_city</th>\n",
       "      <th>departure_time</th>\n",
       "      <th>stops</th>\n",
       "      <th>arrival_time</th>\n",
       "      <th>destination_city</th>\n",
       "      <th>class</th>\n",
       "      <th>duration</th>\n",
       "      <th>days_left</th>\n",
       "      <th>price</th>\n",
       "    </tr>\n",
       "  </thead>\n",
       "  <tbody>\n",
       "    <tr>\n",
       "      <th>0</th>\n",
       "      <td>4</td>\n",
       "      <td>1408</td>\n",
       "      <td>2</td>\n",
       "      <td>2</td>\n",
       "      <td>2</td>\n",
       "      <td>5</td>\n",
       "      <td>5</td>\n",
       "      <td>1</td>\n",
       "      <td>2.17</td>\n",
       "      <td>1</td>\n",
       "      <td>5953</td>\n",
       "    </tr>\n",
       "    <tr>\n",
       "      <th>1</th>\n",
       "      <td>4</td>\n",
       "      <td>1387</td>\n",
       "      <td>2</td>\n",
       "      <td>1</td>\n",
       "      <td>2</td>\n",
       "      <td>4</td>\n",
       "      <td>5</td>\n",
       "      <td>1</td>\n",
       "      <td>2.33</td>\n",
       "      <td>1</td>\n",
       "      <td>5953</td>\n",
       "    </tr>\n",
       "    <tr>\n",
       "      <th>2</th>\n",
       "      <td>0</td>\n",
       "      <td>1213</td>\n",
       "      <td>2</td>\n",
       "      <td>1</td>\n",
       "      <td>2</td>\n",
       "      <td>1</td>\n",
       "      <td>5</td>\n",
       "      <td>1</td>\n",
       "      <td>2.17</td>\n",
       "      <td>1</td>\n",
       "      <td>5956</td>\n",
       "    </tr>\n",
       "    <tr>\n",
       "      <th>3</th>\n",
       "      <td>5</td>\n",
       "      <td>1559</td>\n",
       "      <td>2</td>\n",
       "      <td>4</td>\n",
       "      <td>2</td>\n",
       "      <td>0</td>\n",
       "      <td>5</td>\n",
       "      <td>1</td>\n",
       "      <td>2.25</td>\n",
       "      <td>1</td>\n",
       "      <td>5955</td>\n",
       "    </tr>\n",
       "    <tr>\n",
       "      <th>4</th>\n",
       "      <td>5</td>\n",
       "      <td>1549</td>\n",
       "      <td>2</td>\n",
       "      <td>4</td>\n",
       "      <td>2</td>\n",
       "      <td>4</td>\n",
       "      <td>5</td>\n",
       "      <td>1</td>\n",
       "      <td>2.33</td>\n",
       "      <td>1</td>\n",
       "      <td>5955</td>\n",
       "    </tr>\n",
       "  </tbody>\n",
       "</table>\n",
       "</div>"
      ],
      "text/plain": [
       "   airline  flight  source_city  departure_time  stops  arrival_time  \\\n",
       "0        4    1408            2               2      2             5   \n",
       "1        4    1387            2               1      2             4   \n",
       "2        0    1213            2               1      2             1   \n",
       "3        5    1559            2               4      2             0   \n",
       "4        5    1549            2               4      2             4   \n",
       "\n",
       "   destination_city  class  duration  days_left  price  \n",
       "0                 5      1      2.17          1   5953  \n",
       "1                 5      1      2.33          1   5953  \n",
       "2                 5      1      2.17          1   5956  \n",
       "3                 5      1      2.25          1   5955  \n",
       "4                 5      1      2.33          1   5955  "
      ]
     },
     "execution_count": 39,
     "metadata": {},
     "output_type": "execute_result"
    }
   ],
   "source": [
    "#Label Encoding\n",
    "from sklearn.preprocessing import LabelEncoder\n",
    "encoder=LabelEncoder() #convert txt data to numeric\n",
    "for col in df.columns:\n",
    "    if df[col].dtype=='object': # no need to convert duration, days_left, and price columns\n",
    "        df[col]=encoder.fit_transform(df[col])\n",
    "df.head(5)"
   ]
  },
  {
   "cell_type": "markdown",
   "metadata": {},
   "source": [
    "Moreover, data can have outliers that may result in incorrect learning. We can remove outlier based on the z-score values. For example, we can discard data that outside of [-2,2] z-score. So we calculate z-score of price (which is the target), and remove rows from the data that has z-score of more than 2 and less than -2. "
   ]
  },
  {
   "cell_type": "code",
   "execution_count": 40,
   "metadata": {},
   "outputs": [
    {
     "name": "stdout",
     "output_type": "stream",
     "text": [
      "10931 rows were removed\n"
     ]
    }
   ],
   "source": [
    "#Removing Outliers\n",
    "import numpy as np\n",
    "def remove_outliers(df, name, sd):\n",
    "    drop_rows = df.index[(np.abs(df[name] - df[name].mean())\n",
    "                          >= (sd * df[name].std()))]\n",
    "    df.drop(drop_rows, axis=0, inplace=True)\n",
    "shape_before = df.shape\n",
    "remove_outliers(df,'price',2)\n",
    "shape_after = df.shape\n",
    "\n",
    "print(shape_before[0]-shape_after[0],\"rows were removed\")"
   ]
  },
  {
   "cell_type": "markdown",
   "metadata": {},
   "source": [
    "The data set has 11 features with the last one being the target (price)\n",
    "We call the first 11 features the 'features' and the last feature 'price' "
   ]
  },
  {
   "cell_type": "code",
   "execution_count": 41,
   "metadata": {},
   "outputs": [],
   "source": [
    "#seperating features and target(price)\n",
    "price = df['price'] # target\n",
    "features = df.drop('price',axis=1) #data features\n",
    "# features =df[['days_left','duration']] #data features"
   ]
  },
  {
   "cell_type": "markdown",
   "metadata": {},
   "source": [
    "Scaling is important with neural networks, which work particularly well when the data is normally distributed. The standard scaler transforms the data so that it is normally distributed, and should allow the network to fit the data better. There are various scalar available. We tried: Min-Max Scalar, Z-Score Scalar and Standard Scalar."
   ]
  },
  {
   "cell_type": "code",
   "execution_count": 42,
   "metadata": {},
   "outputs": [
    {
     "data": {
      "text/html": [
       "<div>\n",
       "<style scoped>\n",
       "    .dataframe tbody tr th:only-of-type {\n",
       "        vertical-align: middle;\n",
       "    }\n",
       "\n",
       "    .dataframe tbody tr th {\n",
       "        vertical-align: top;\n",
       "    }\n",
       "\n",
       "    .dataframe thead th {\n",
       "        text-align: right;\n",
       "    }\n",
       "</style>\n",
       "<table border=\"1\" class=\"dataframe\">\n",
       "  <thead>\n",
       "    <tr style=\"text-align: right;\">\n",
       "      <th></th>\n",
       "      <th>airline</th>\n",
       "      <th>flight</th>\n",
       "      <th>source_city</th>\n",
       "      <th>departure_time</th>\n",
       "      <th>stops</th>\n",
       "      <th>arrival_time</th>\n",
       "      <th>destination_city</th>\n",
       "      <th>class</th>\n",
       "      <th>duration</th>\n",
       "      <th>days_left</th>\n",
       "    </tr>\n",
       "  </thead>\n",
       "  <tbody>\n",
       "    <tr>\n",
       "      <th>0</th>\n",
       "      <td>0.8</td>\n",
       "      <td>0.902564</td>\n",
       "      <td>0.4</td>\n",
       "      <td>0.4</td>\n",
       "      <td>1.0</td>\n",
       "      <td>1.0</td>\n",
       "      <td>1.0</td>\n",
       "      <td>1.0</td>\n",
       "      <td>0.027347</td>\n",
       "      <td>0.0</td>\n",
       "    </tr>\n",
       "    <tr>\n",
       "      <th>1</th>\n",
       "      <td>0.8</td>\n",
       "      <td>0.889103</td>\n",
       "      <td>0.4</td>\n",
       "      <td>0.2</td>\n",
       "      <td>1.0</td>\n",
       "      <td>0.8</td>\n",
       "      <td>1.0</td>\n",
       "      <td>1.0</td>\n",
       "      <td>0.030612</td>\n",
       "      <td>0.0</td>\n",
       "    </tr>\n",
       "    <tr>\n",
       "      <th>2</th>\n",
       "      <td>0.0</td>\n",
       "      <td>0.777564</td>\n",
       "      <td>0.4</td>\n",
       "      <td>0.2</td>\n",
       "      <td>1.0</td>\n",
       "      <td>0.2</td>\n",
       "      <td>1.0</td>\n",
       "      <td>1.0</td>\n",
       "      <td>0.027347</td>\n",
       "      <td>0.0</td>\n",
       "    </tr>\n",
       "    <tr>\n",
       "      <th>3</th>\n",
       "      <td>1.0</td>\n",
       "      <td>0.999359</td>\n",
       "      <td>0.4</td>\n",
       "      <td>0.8</td>\n",
       "      <td>1.0</td>\n",
       "      <td>0.0</td>\n",
       "      <td>1.0</td>\n",
       "      <td>1.0</td>\n",
       "      <td>0.028980</td>\n",
       "      <td>0.0</td>\n",
       "    </tr>\n",
       "    <tr>\n",
       "      <th>4</th>\n",
       "      <td>1.0</td>\n",
       "      <td>0.992949</td>\n",
       "      <td>0.4</td>\n",
       "      <td>0.8</td>\n",
       "      <td>1.0</td>\n",
       "      <td>0.8</td>\n",
       "      <td>1.0</td>\n",
       "      <td>1.0</td>\n",
       "      <td>0.030612</td>\n",
       "      <td>0.0</td>\n",
       "    </tr>\n",
       "  </tbody>\n",
       "</table>\n",
       "</div>"
      ],
      "text/plain": [
       "   airline    flight  source_city  departure_time  stops  arrival_time  \\\n",
       "0      0.8  0.902564          0.4             0.4    1.0           1.0   \n",
       "1      0.8  0.889103          0.4             0.2    1.0           0.8   \n",
       "2      0.0  0.777564          0.4             0.2    1.0           0.2   \n",
       "3      1.0  0.999359          0.4             0.8    1.0           0.0   \n",
       "4      1.0  0.992949          0.4             0.8    1.0           0.8   \n",
       "\n",
       "   destination_city  class  duration  days_left  \n",
       "0               1.0    1.0  0.027347        0.0  \n",
       "1               1.0    1.0  0.030612        0.0  \n",
       "2               1.0    1.0  0.027347        0.0  \n",
       "3               1.0    1.0  0.028980        0.0  \n",
       "4               1.0    1.0  0.030612        0.0  "
      ]
     },
     "execution_count": 42,
     "metadata": {},
     "output_type": "execute_result"
    }
   ],
   "source": [
    "#Scaling Data\n",
    "# from sklearn.preprocessing import StandardScaler \n",
    "\n",
    "# sc = StandardScaler()\n",
    "# sc.fit(features)\n",
    "# features= sc.transform(features)\n",
    "# features[0:3]\n",
    "\n",
    "# from scipy.stats import zscore\n",
    "# for col in features.columns:\n",
    "#     features[col] = zscore(features[col])\n",
    "# features[0:3]\n",
    "feature_names = features.columns;\n",
    "from sklearn.preprocessing import MinMaxScaler\n",
    "mmscaler=MinMaxScaler(feature_range=(0,1))\n",
    "features=pd.DataFrame(mmscaler.fit_transform(features))\n",
    "features.columns = feature_names;\n",
    "features.head()"
   ]
  },
  {
   "cell_type": "markdown",
   "metadata": {},
   "source": [
    "Scaling is important with neural networks, which work particularly well when the data is normally distributed. The standard scaler transforms the data so that it is normally distributed, and should allow the network to fit the data better. There are various scalar available. We tried: Min-Max Scalar, Z-Score Scalar and Standard Scalar."
   ]
  },
  {
   "cell_type": "code",
   "execution_count": 43,
   "metadata": {},
   "outputs": [
    {
     "name": "stdout",
     "output_type": "stream",
     "text": [
      "Sample in test set  231378\n",
      "Sample in train set  57844\n"
     ]
    }
   ],
   "source": [
    "#splitting data into training and testing set\n",
    "from sklearn.model_selection import train_test_split\n",
    "#spliting the data\n",
    "xtrain,xtest,ytrain,ytest=train_test_split(features,price,test_size=0.8,random_state=42)\n",
    "print(\"Sample in test set \",xtest.shape[0])\n",
    "print(\"Sample in train set \",xtrain.shape[0])"
   ]
  },
  {
   "cell_type": "markdown",
   "metadata": {},
   "source": [
    "We have created a simple feed forward network with two hidden layers and one ouput layer to predict the price"
   ]
  },
  {
   "cell_type": "code",
   "execution_count": 44,
   "metadata": {},
   "outputs": [
    {
     "name": "stdout",
     "output_type": "stream",
     "text": [
      "Model: \"sequential_4\"\n",
      "_________________________________________________________________\n",
      " Layer (type)                Output Shape              Param #   \n",
      "=================================================================\n",
      " dense_12 (Dense)            (None, 64)                704       \n",
      "                                                                 \n",
      " dense_13 (Dense)            (None, 64)                4160      \n",
      "                                                                 \n",
      " dense_14 (Dense)            (None, 1)                 65        \n",
      "                                                                 \n",
      "=================================================================\n",
      "Total params: 4,929\n",
      "Trainable params: 4,929\n",
      "Non-trainable params: 0\n",
      "_________________________________________________________________\n"
     ]
    }
   ],
   "source": [
    "#Creating a Feed Forward Network\n",
    "from tensorflow.keras.models import Sequential\n",
    "from tensorflow.keras.layers import Dense\n",
    "\n",
    "feedforward = Sequential()\n",
    "feedforward.add(Dense(64, input_dim=xtrain.shape[1], activation='relu')) # Hidden 1\n",
    "feedforward.add(Dense(64,activation='relu')) #Hidden 2\n",
    "feedforward.add(Dense(1)) # Output\n",
    "feedforward.compile(loss='mean_squared_error', optimizer='adam')\n",
    "feedforward.summary()"
   ]
  },
  {
   "cell_type": "markdown",
   "metadata": {},
   "source": [
    "We have trained the ff-net on training data"
   ]
  },
  {
   "cell_type": "code",
   "execution_count": 45,
   "metadata": {},
   "outputs": [
    {
     "name": "stdout",
     "output_type": "stream",
     "text": [
      "Epoch 1/10\n",
      "1808/1808 - 3s - loss: 468132832.0000 - 3s/epoch - 2ms/step\n",
      "Epoch 2/10\n",
      "1808/1808 - 3s - loss: 153539472.0000 - 3s/epoch - 1ms/step\n",
      "Epoch 3/10\n",
      "1808/1808 - 3s - loss: 36211760.0000 - 3s/epoch - 1ms/step\n",
      "Epoch 4/10\n",
      "1808/1808 - 3s - loss: 27750782.0000 - 3s/epoch - 2ms/step\n",
      "Epoch 5/10\n",
      "1808/1808 - 3s - loss: 24967152.0000 - 3s/epoch - 2ms/step\n",
      "Epoch 6/10\n",
      "1808/1808 - 3s - loss: 23389530.0000 - 3s/epoch - 1ms/step\n",
      "Epoch 7/10\n",
      "1808/1808 - 3s - loss: 22567118.0000 - 3s/epoch - 1ms/step\n",
      "Epoch 8/10\n",
      "1808/1808 - 3s - loss: 22204658.0000 - 3s/epoch - 1ms/step\n",
      "Epoch 9/10\n",
      "1808/1808 - 3s - loss: 21930452.0000 - 3s/epoch - 1ms/step\n",
      "Epoch 10/10\n",
      "1808/1808 - 3s - loss: 21771770.0000 - 3s/epoch - 1ms/step\n"
     ]
    },
    {
     "data": {
      "text/plain": [
       "<keras.callbacks.History at 0x241127a67f0>"
      ]
     },
     "execution_count": 45,
     "metadata": {},
     "output_type": "execute_result"
    }
   ],
   "source": [
    "#Training the Feed-Forward Network\n",
    "feedforward.fit(xtrain,ytrain,verbose=2,epochs=10) # tried to run for 600 iterations but no significant improvement"
   ]
  },
  {
   "cell_type": "markdown",
   "metadata": {},
   "source": [
    "After Training, the trained ff-net was evaluated on test data and the performance measure was printed"
   ]
  },
  {
   "cell_type": "code",
   "execution_count": 46,
   "metadata": {},
   "outputs": [
    {
     "name": "stdout",
     "output_type": "stream",
     "text": [
      "7231/7231 [==============================] - 8s 1ms/step\n",
      "Final score (RMSE): 4668.076548422273\n"
     ]
    }
   ],
   "source": [
    "#predicting the priced (from test data) by Neural Network\n",
    "pred = feedforward.predict(xtest)\n",
    "#Measuring the RMSE score\n",
    "import numpy as np\n",
    "from sklearn import metrics\n",
    "# Measure RMSE error.  RMSE is common for regression.\n",
    "score = np.sqrt(metrics.mean_squared_error(pred,ytest))\n",
    "print(f\"Final score (RMSE): {score}\")\n"
   ]
  },
  {
   "cell_type": "markdown",
   "metadata": {},
   "source": [
    "Linear regression was trained on the training data"
   ]
  },
  {
   "cell_type": "code",
   "execution_count": 47,
   "metadata": {},
   "outputs": [
    {
     "data": {
      "text/plain": [
       "LinearRegression()"
      ]
     },
     "execution_count": 47,
     "metadata": {},
     "output_type": "execute_result"
    }
   ],
   "source": [
    "#Creating and Training Linear Regression Model\n",
    "from sklearn.linear_model import LinearRegression\n",
    "linearReg = LinearRegression()\n",
    "linearReg.fit(xtrain,ytrain)  \n"
   ]
  },
  {
   "cell_type": "markdown",
   "metadata": {},
   "source": [
    "Linear regression model was then tested and root mean square error was reported"
   ]
  },
  {
   "cell_type": "code",
   "execution_count": 48,
   "metadata": {},
   "outputs": [
    {
     "name": "stdout",
     "output_type": "stream",
     "text": [
      "Root Mean Squared Error: 5704.718714590392\n"
     ]
    },
    {
     "data": {
      "image/png": "[encoded data removed]",
      "text/plain": [
       "<Figure size 1000x800 with 1 Axes>"
      ]
     },
     "metadata": {},
     "output_type": "display_data"
    }
   ],
   "source": [
    "# Predict the model with test data using Linear Regression\n",
    "ypred = linearReg.predict(xtest)\n",
    "# Evaluation metrics for Regression analysis\n",
    "df_compare = pd.DataFrame({'Actual': ytest, 'Predicted': ypred}).head(15)\n",
    "df_compare.plot(kind='bar',figsize=(10,8),xlabel=\"Sample #\",ylabel=\"Price\")\n",
    "print('Root Mean Squared Error:', np.sqrt(metrics.mean_squared_error(ytest, ypred))) # Not good enough"
   ]
  },
  {
   "cell_type": "markdown",
   "metadata": {},
   "source": [
    "Finally the Linear Regression and Feed Forward Network was evalued using K-Fold cross validation (5-fold to be specific)"
   ]
  },
  {
   "cell_type": "code",
   "execution_count": 49,
   "metadata": {},
   "outputs": [
    {
     "name": "stdout",
     "output_type": "stream",
     "text": [
      "Epoch 1/10\n",
      "7231/7231 - 11s - loss: 21629000.0000 - 11s/epoch - 1ms/step\n",
      "Epoch 2/10\n",
      "7231/7231 - 10s - loss: 21331742.0000 - 10s/epoch - 1ms/step\n",
      "Epoch 3/10\n",
      "7231/7231 - 10s - loss: 21130826.0000 - 10s/epoch - 1ms/step\n",
      "Epoch 4/10\n",
      "7231/7231 - 11s - loss: 21000774.0000 - 11s/epoch - 1ms/step\n",
      "Epoch 5/10\n",
      "7231/7231 - 11s - loss: 20948084.0000 - 11s/epoch - 1ms/step\n",
      "Epoch 6/10\n",
      "7231/7231 - 11s - loss: 20896000.0000 - 11s/epoch - 1ms/step\n",
      "Epoch 7/10\n",
      "7231/7231 - 10s - loss: 20876054.0000 - 10s/epoch - 1ms/step\n",
      "Epoch 8/10\n",
      "7231/7231 - 10s - loss: 20862888.0000 - 10s/epoch - 1ms/step\n",
      "Epoch 9/10\n",
      "7231/7231 - 10s - loss: 20841034.0000 - 10s/epoch - 1ms/step\n",
      "Epoch 10/10\n",
      "7231/7231 - 10s - loss: 20826154.0000 - 10s/epoch - 1ms/step\n",
      "Fold #1, Training Size: 231377, Validation Size: 57845\n",
      "1808/1808 [==============================] - 2s 1ms/step\n",
      "Score (RMSE) FF-Network: 4554.429867051684\n",
      "Score (RMSE) Linear Regression: 5721.518357823358\n",
      "Epoch 1/10\n",
      "7231/7231 - 11s - loss: 20815860.0000 - 11s/epoch - 1ms/step\n",
      "Epoch 2/10\n",
      "7231/7231 - 11s - loss: 20809500.0000 - 11s/epoch - 1ms/step\n",
      "Epoch 3/10\n",
      "7231/7231 - 11s - loss: 20801330.0000 - 11s/epoch - 1ms/step\n",
      "Epoch 4/10\n",
      "7231/7231 - 11s - loss: 20786232.0000 - 11s/epoch - 1ms/step\n",
      "Epoch 5/10\n",
      "7231/7231 - 11s - loss: 20772288.0000 - 11s/epoch - 1ms/step\n",
      "Epoch 6/10\n",
      "7231/7231 - 11s - loss: 20765094.0000 - 11s/epoch - 1ms/step\n",
      "Epoch 7/10\n",
      "7231/7231 - 10s - loss: 20746384.0000 - 10s/epoch - 1ms/step\n",
      "Epoch 8/10\n",
      "7231/7231 - 10s - loss: 20735486.0000 - 10s/epoch - 1ms/step\n",
      "Epoch 9/10\n",
      "7231/7231 - 11s - loss: 20726168.0000 - 11s/epoch - 1ms/step\n",
      "Epoch 10/10\n",
      "7231/7231 - 11s - loss: 20716034.0000 - 11s/epoch - 2ms/step\n",
      "Fold #2, Training Size: 231377, Validation Size: 57845\n",
      "1808/1808 [==============================] - 2s 1ms/step\n",
      "Score (RMSE) FF-Network: 4542.453761576382\n",
      "Score (RMSE) Linear Regression: 5690.943817182614\n",
      "Epoch 1/10\n",
      "7231/7231 - 11s - loss: 20619350.0000 - 11s/epoch - 2ms/step\n",
      "Epoch 2/10\n",
      "7231/7231 - 11s - loss: 20606588.0000 - 11s/epoch - 1ms/step\n",
      "Epoch 3/10\n",
      "7231/7231 - 11s - loss: 20596414.0000 - 11s/epoch - 1ms/step\n",
      "Epoch 4/10\n",
      "7231/7231 - 11s - loss: 20585964.0000 - 11s/epoch - 1ms/step\n",
      "Epoch 5/10\n",
      "7231/7231 - 11s - loss: 20585216.0000 - 11s/epoch - 1ms/step\n",
      "Epoch 6/10\n",
      "7231/7231 - 11s - loss: 20558960.0000 - 11s/epoch - 1ms/step\n",
      "Epoch 7/10\n",
      "7231/7231 - 11s - loss: 20549416.0000 - 11s/epoch - 2ms/step\n",
      "Epoch 8/10\n",
      "7231/7231 - 11s - loss: 20537864.0000 - 11s/epoch - 1ms/step\n",
      "Epoch 9/10\n",
      "7231/7231 - 11s - loss: 20522122.0000 - 11s/epoch - 2ms/step\n",
      "Epoch 10/10\n",
      "7231/7231 - 11s - loss: 20513434.0000 - 11s/epoch - 1ms/step\n",
      "Fold #3, Training Size: 231378, Validation Size: 57844\n",
      "1808/1808 [==============================] - 2s 1ms/step\n",
      "Score (RMSE) FF-Network: 4561.362164073608\n",
      "Score (RMSE) Linear Regression: 5723.075474971973\n",
      "Epoch 1/10\n",
      "7231/7231 - 11s - loss: 20560972.0000 - 11s/epoch - 1ms/step\n",
      "Epoch 2/10\n",
      "7231/7231 - 11s - loss: 20541164.0000 - 11s/epoch - 1ms/step\n",
      "Epoch 3/10\n",
      "7231/7231 - 11s - loss: 20515596.0000 - 11s/epoch - 1ms/step\n",
      "Epoch 4/10\n",
      "7231/7231 - 11s - loss: 20487174.0000 - 11s/epoch - 1ms/step\n",
      "Epoch 5/10\n",
      "7231/7231 - 11s - loss: 20435340.0000 - 11s/epoch - 1ms/step\n",
      "Epoch 6/10\n",
      "7231/7231 - 11s - loss: 20362656.0000 - 11s/epoch - 2ms/step\n",
      "Epoch 7/10\n",
      "7231/7231 - 11s - loss: 20283602.0000 - 11s/epoch - 1ms/step\n",
      "Epoch 8/10\n",
      "7231/7231 - 11s - loss: 20183166.0000 - 11s/epoch - 1ms/step\n",
      "Epoch 9/10\n",
      "7231/7231 - 11s - loss: 20092522.0000 - 11s/epoch - 1ms/step\n",
      "Epoch 10/10\n",
      "7231/7231 - 11s - loss: 20015924.0000 - 11s/epoch - 1ms/step\n",
      "Fold #4, Training Size: 231378, Validation Size: 57844\n",
      "1808/1808 [==============================] - 2s 1ms/step\n",
      "Score (RMSE) FF-Network: 4464.221067806581\n",
      "Score (RMSE) Linear Regression: 5703.266429629673\n",
      "Epoch 1/10\n",
      "7231/7231 - 11s - loss: 19979150.0000 - 11s/epoch - 1ms/step\n",
      "Epoch 2/10\n",
      "7231/7231 - 11s - loss: 19925282.0000 - 11s/epoch - 1ms/step\n",
      "Epoch 3/10\n",
      "7231/7231 - 11s - loss: 19869748.0000 - 11s/epoch - 1ms/step\n",
      "Epoch 4/10\n",
      "7231/7231 - 11s - loss: 19812340.0000 - 11s/epoch - 1ms/step\n",
      "Epoch 5/10\n",
      "7231/7231 - 11s - loss: 19761004.0000 - 11s/epoch - 1ms/step\n",
      "Epoch 6/10\n",
      "7231/7231 - 11s - loss: 19687422.0000 - 11s/epoch - 1ms/step\n",
      "Epoch 7/10\n",
      "7231/7231 - 11s - loss: 19621380.0000 - 11s/epoch - 1ms/step\n",
      "Epoch 8/10\n",
      "7231/7231 - 11s - loss: 19538516.0000 - 11s/epoch - 1ms/step\n",
      "Epoch 9/10\n",
      "7231/7231 - 11s - loss: 19469786.0000 - 11s/epoch - 1ms/step\n",
      "Epoch 10/10\n",
      "7231/7231 - 11s - loss: 19394238.0000 - 11s/epoch - 1ms/step\n",
      "Fold #5, Training Size: 231378, Validation Size: 57844\n",
      "1808/1808 [==============================] - 2s 1ms/step\n",
      "Score (RMSE) FF-Network: 4374.656245135468\n",
      "Score (RMSE) Linear Regression: 5676.607334222212\n"
     ]
    }
   ],
   "source": [
    "#Kfold cross validation\n",
    "from sklearn.model_selection import KFold\n",
    "import numpy as np\n",
    "from sklearn import metrics\n",
    "# Measure RMSE error.  RMSE is common for regression.\n",
    "\n",
    "kf = KFold(5,shuffle=True)\n",
    "\n",
    "fold = 1\n",
    "ftr = features.to_numpy()\n",
    "prc = price.to_numpy()\n",
    "# The data is split five ways, for each fold, the \n",
    "# Perceptron is trained, tested and evaluated for accuracy\n",
    "for train_index, validate_index in kf.split(ftr,prc):\n",
    "    y_test = prc[validate_index]\n",
    "    feedforward.fit(ftr[train_index],prc[train_index],verbose=2,epochs=10)    \n",
    " \n",
    "    linearReg.fit(ftr[train_index],prc[train_index])    \n",
    "    \n",
    "    print(f\"Fold #{fold}, Training Size: {len(ftr[train_index])}, Validation Size: {len(ftr[validate_index])}\")\n",
    "    y_pred = feedforward.predict(ftr[validate_index])\n",
    "    score = np.sqrt(metrics.mean_squared_error(y_pred,y_test))\n",
    "    print(f\"Score (RMSE) FF-Network: {score}\")\n",
    "\n",
    "    y_pred = linearReg.predict(ftr[validate_index])\n",
    "    score = np.sqrt(metrics.mean_squared_error(y_pred,y_test))\n",
    "    print(f\"Score (RMSE) Linear Regression: {score}\")\n",
    "\n",
    "    fold += 1"
   ]
  }
 ],
 "metadata": {
  "kernelspec": {
   "display_name": "Python 3 (ipykernel)",
   "language": "python",
   "name": "python3"
  },
  "language_info": {
   "codemirror_mode": {
    "name": "ipython",
    "version": 3
   },
   "file_extension": ".py",
   "mimetype": "text/x-python",
   "name": "python",
   "nbconvert_exporter": "python",
   "pygments_lexer": "ipython3",
   "version": "3.9.12"
  },
  "vscode": {
   "interpreter": {
    "hash": "ad2bdc8ecc057115af97d19610ffacc2b4e99fae6737bb82f5d7fb13d2f2c186"
   }
  }
 },
 "nbformat": 4,
 "nbformat_minor": 2
}
